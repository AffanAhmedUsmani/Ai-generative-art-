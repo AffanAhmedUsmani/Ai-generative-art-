{
 "cells": [
  {
   "cell_type": "code",
   "execution_count": 4,
   "metadata": {},
   "outputs": [],
   "source": [
    "import tensorflow_hub as hub \n",
    "import tensorflow as tf\n",
    "from matplotlib import pyplot as plt \n",
    "import numpy as np \n",
    "import cv2 \n"
   ]
  },
  {
   "cell_type": "code",
   "execution_count": 5,
   "metadata": {},
   "outputs": [],
   "source": [
    "model = hub.load('https://tfhub.dev/google/magenta/arbitrary-image-stylization-v1-256/2')"
   ]
  },
  {
   "cell_type": "code",
   "execution_count": 6,
   "metadata": {},
   "outputs": [],
   "source": [
    "def load_image(img_path):\n",
    "    img = tf.io.read_file(img_path)\n",
    "    img = tf.image.decode_image(img, channels=3)\n",
    "    img = tf.image.convert_image_dtype(img, tf.float32)\n",
    "    img = img[tf.newaxis, :]\n",
    "    return img \n",
    "    "
   ]
  },
  {
   "cell_type": "code",
   "execution_count": 10,
   "metadata": {},
   "outputs": [],
   "source": [
    "from imutils import paths\n",
    "pathname1 = \"generativeart\\\\a\"\n",
    "imagePaths = list(paths.list_images(pathname1))\n",
    "\n",
    "pathname2 = \"generativeart\\\\b\"\n",
    "imagePaths1 = list(paths.list_images(pathname2))\n"
   ]
  },
  {
   "cell_type": "code",
   "execution_count": 11,
   "metadata": {},
   "outputs": [
    {
     "name": "stdout",
     "output_type": "stream",
     "text": [
      "generativeart\\a\\131756.jpg\n",
      "generativeart\\a\\131756.jpg\n",
      "generativeart\\a\\131756.jpg\n",
      "generativeart\\a\\131756.jpg\n",
      "generativeart\\a\\131756.jpg\n",
      "generativeart\\a\\131756.jpg\n",
      "generativeart\\a\\131756.jpg\n",
      "generativeart\\a\\555643-historic-desktop-wallpaper-top-free-historic-desktop-background.jpg\n",
      "generativeart\\a\\555643-historic-desktop-wallpaper-top-free-historic-desktop-background.jpg\n",
      "generativeart\\a\\555643-historic-desktop-wallpaper-top-free-historic-desktop-background.jpg\n",
      "generativeart\\a\\555643-historic-desktop-wallpaper-top-free-historic-desktop-background.jpg\n",
      "generativeart\\a\\555643-historic-desktop-wallpaper-top-free-historic-desktop-background.jpg\n",
      "generativeart\\a\\555643-historic-desktop-wallpaper-top-free-historic-desktop-background.jpg\n",
      "generativeart\\a\\555643-historic-desktop-wallpaper-top-free-historic-desktop-background.jpg\n",
      "generativeart\\a\\5854282.jpg\n",
      "generativeart\\a\\5854282.jpg\n",
      "generativeart\\a\\5854282.jpg\n",
      "generativeart\\a\\5854282.jpg\n",
      "generativeart\\a\\5854282.jpg\n",
      "generativeart\\a\\5854282.jpg\n",
      "generativeart\\a\\5854282.jpg\n",
      "generativeart\\a\\651717.jpg\n",
      "generativeart\\a\\651717.jpg\n",
      "generativeart\\a\\651717.jpg\n",
      "generativeart\\a\\651717.jpg\n",
      "generativeart\\a\\651717.jpg\n",
      "generativeart\\a\\651717.jpg\n",
      "generativeart\\a\\651717.jpg\n",
      "generativeart\\a\\beautiful-horse-horses-150166554.jpg\n",
      "generativeart\\a\\beautiful-horse-horses-150166554.jpg\n",
      "generativeart\\a\\beautiful-horse-horses-150166554.jpg\n",
      "generativeart\\a\\beautiful-horse-horses-150166554.jpg\n",
      "generativeart\\a\\beautiful-horse-horses-150166554.jpg\n",
      "generativeart\\a\\beautiful-horse-horses-150166554.jpg\n",
      "generativeart\\a\\beautiful-horse-horses-150166554.jpg\n",
      "generativeart\\a\\beautiful-white-horse-hd-wallpaper-white-513073470.jpg\n",
      "generativeart\\a\\beautiful-white-horse-hd-wallpaper-white-513073470.jpg\n",
      "generativeart\\a\\beautiful-white-horse-hd-wallpaper-white-513073470.jpg\n",
      "generativeart\\a\\beautiful-white-horse-hd-wallpaper-white-513073470.jpg\n",
      "generativeart\\a\\beautiful-white-horse-hd-wallpaper-white-513073470.jpg\n",
      "generativeart\\a\\beautiful-white-horse-hd-wallpaper-white-513073470.jpg\n",
      "generativeart\\a\\beautiful-white-horse-hd-wallpaper-white-513073470.jpg\n",
      "generativeart\\a\\wp8738924.jpg\n",
      "generativeart\\a\\wp8738924.jpg\n",
      "generativeart\\a\\wp8738924.jpg\n",
      "generativeart\\a\\wp8738924.jpg\n",
      "generativeart\\a\\wp8738924.jpg\n",
      "generativeart\\a\\wp8738924.jpg\n",
      "generativeart\\a\\wp8738924.jpg\n"
     ]
    }
   ],
   "source": [
    "for i in range(0,len(imagePaths)):\n",
    "    for j in range(0,len(imagePaths1)):\n",
    "        print(imagePaths[i])\n",
    "        content_image =load_image(imagePaths[i])\n",
    "        style_image =load_image(imagePaths1[j])\n",
    "        stylized_image = model(tf.constant(content_image), tf.constant(style_image))[0]\n",
    "        \n",
    "        cv2.imwrite(\"generativeart\\\\c\\\\Ai Generated art {}_{}.jpg\".format(i,j), cv2.cvtColor(np.squeeze(stylized_image)*255 ,cv2.COLOR_BGR2RGB) )\n",
    "        \n",
    "    "
   ]
  }
 ],
 "metadata": {
  "interpreter": {
   "hash": "f23faf4bfe871c203c8bec80520af5927fc7cb1ae3bd834ddf554ee587ad1c05"
  },
  "kernelspec": {
   "display_name": "Python 3.8.6 64-bit",
   "language": "python",
   "name": "python3"
  },
  "language_info": {
   "codemirror_mode": {
    "name": "ipython",
    "version": 3
   },
   "file_extension": ".py",
   "mimetype": "text/x-python",
   "name": "python",
   "nbconvert_exporter": "python",
   "pygments_lexer": "ipython3",
   "version": "3.8.6"
  },
  "orig_nbformat": 4
 },
 "nbformat": 4,
 "nbformat_minor": 2
}
